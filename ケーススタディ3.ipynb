{
  "nbformat": 4,
  "nbformat_minor": 0,
  "metadata": {
    "colab": {
      "provenance": [],
      "authorship_tag": "ABX9TyOQ/kTVCmY25bsFmyJalwB3",
      "include_colab_link": true
    },
    "kernelspec": {
      "name": "python3",
      "display_name": "Python 3"
    },
    "language_info": {
      "name": "python"
    }
  },
  "cells": [
    {
      "cell_type": "markdown",
      "metadata": {
        "id": "view-in-github",
        "colab_type": "text"
      },
      "source": [
        "<a href=\"https://colab.research.google.com/github/katsu1231/samurai-terakoya/blob/main/%E3%82%B1%E3%83%BC%E3%82%B9%E3%82%B9%E3%82%BF%E3%83%87%E3%82%A33.ipynb\" target=\"_parent\"><img src=\"https://colab.research.google.com/assets/colab-badge.svg\" alt=\"Open In Colab\"/></a>"
      ]
    },
    {
      "cell_type": "code",
      "source": [
        "import glob\n",
        "import pandas as pd\n",
        "\n",
        "# ワイルドカードを含むパターン\n",
        "file_list = [\"order_A_20230524.xlsx\", \"order_B_20230524.xlsx\", \"order_C_20230524.xlsx\", \"order_D_20230524.xlsx\"]\n",
        "\n",
        "# 結合後のデータを格納するための空のデータフレームを作成\n",
        "df = pd.DataFrame()\n",
        "\n",
        "# ファイルを一つずつ処理する\n",
        "for pattern in file_list:\n",
        "    # パターンにマッチするファイルをすべて取得\n",
        "    matched_files = glob.glob(pattern)\n",
        "\n",
        "    # パターンに合致するファイルがない場合に備えて\n",
        "    if not matched_files:\n",
        "        print(f\"パターン {pattern} に該当するファイルはありません。\")\n",
        "        continue\n",
        "\n",
        "    # マッチしたファイルを一つずつ読み込む\n",
        "    for file_name in matched_files:\n",
        "        temp_df = pd.read_excel(file_name, header=None)\n",
        "\n",
        "        # データフレームの列名を指定\n",
        "        temp_df.columns = [\"レタス\",\"白菜\",\"ほうれん草\",\"大根\",\"トマト\"]\n",
        "\n",
        "        # concat()でデータフレームを連結\n",
        "        df = pd.concat([df, temp_df], ignore_index=True)\n",
        "\n",
        "print(df)"
      ],
      "metadata": {
        "colab": {
          "base_uri": "https://localhost:8080/"
        },
        "id": "jiob-rMOb8Qy",
        "outputId": "0aaf1cb6-ea24-4cd3-be71-38224adc67c4"
      },
      "execution_count": null,
      "outputs": [
        {
          "output_type": "stream",
          "name": "stdout",
          "text": [
            "   レタス    白菜  ほうれん草     大根    トマト\n",
            "0  トマト  キャベツ    レタス     白菜  ほうれん草\n",
            "1   13     6     11      8      9\n",
            "2  レタス    白菜  ほうれん草     大根   ニンジン\n",
            "3   12     8     10      7     13\n",
            "4  トマト   レタス     白菜     大根   ニンジン\n",
            "5    6    11      9      8     12\n",
            "6  トマト  キャベツ    レタス  ほうれん草   ニンジン\n",
            "7   12    15      8      4      7\n"
          ]
        }
      ]
    },
    {
      "cell_type": "code",
      "source": [
        "import glob\n",
        "import pandas as pd\n",
        "\n",
        "# ワイルドカードを含むパターン\n",
        "file_list = [\"order_A_20230524.xlsx\", \"order_B_20230524.xlsx\", \"order_C_20230524.xlsx\", \"order_D_20230524.xlsx\"]\n",
        "\n",
        "# 結合後のデータを格納するための空のデータフレームを作成\n",
        "df = pd.DataFrame()\n",
        "\n",
        "# ファイルを一つずつ処理する\n",
        "for pattern in file_list:\n",
        "    # パターンにマッチするファイルをすべて取得\n",
        "    matched_files = glob.glob(pattern)\n",
        "\n",
        "    # パターンに合致するファイルがない場合に備えて\n",
        "    if not matched_files:\n",
        "        print(f\"パターン {pattern} に該当するファイルはありません。\")\n",
        "        continue\n",
        "\n",
        "    # マッチしたファイルを一つずつ読み込む\n",
        "    for file_name in matched_files:\n",
        "        temp_df = pd.read_excel(file_name, header=None)\n",
        "\n",
        "        # 最初の行を列名に指定\n",
        "        new_columns = temp_df.iloc[0].tolist()  # 最初の行の値をリストとして取得\n",
        "        temp_df = temp_df[1:]  # 最初の行をデータから削除\n",
        "        temp_df.columns = new_columns  # 列名を設定\n",
        "\n",
        "        # concat()でデータフレームを連結\n",
        "        df = pd.concat([df, temp_df], ignore_index=True)\n",
        "\n",
        "print(df)\n"
      ],
      "metadata": {
        "id": "ykMJBD6phfm5",
        "colab": {
          "base_uri": "https://localhost:8080/"
        },
        "outputId": "a8199561-370b-46d9-b96b-2e321bca7dbc"
      },
      "execution_count": null,
      "outputs": [
        {
          "output_type": "stream",
          "name": "stdout",
          "text": [
            "   トマト キャベツ レタス   白菜 ほうれん草   大根 ニンジン\n",
            "0   13    6  11    8     9  NaN  NaN\n",
            "1  NaN  NaN  12    8    10    7   13\n",
            "2    6  NaN  11    9   NaN    8   12\n",
            "3   12   15   8  NaN     4  NaN    7\n"
          ]
        }
      ]
    },
    {
      "cell_type": "code",
      "source": [
        "import glob\n",
        "import pandas as pd\n",
        "\n",
        "# ワイルドカードを含むパターン\n",
        "file_list = [\"order_A_20230524.xlsx\", \"order_B_20230524.xlsx\", \"order_C_20230524.xlsx\", \"order_D_20230524.xlsx\"]\n",
        "\n",
        "def load_order_data(file_list):\n",
        "    # 結合後のデータを格納するための空のデータフレームを作成\n",
        "    df = pd.DataFrame()\n",
        "\n",
        "    # ファイルを一つずつ処理する\n",
        "    for file_name in file_list:\n",
        "        # Excelファイルを読み込む\n",
        "        try:\n",
        "            temp_df = pd.read_excel(file_name, header=None)\n",
        "\n",
        "            # 最初の行を列名に指定\n",
        "            temp_df.columns = temp_df.iloc[0]  # 0行目を列名に設定\n",
        "            temp_df = temp_df[1:]  # データから列名行を削除\n",
        "\n",
        "            # concat()でデータフレームを連結\n",
        "            df = pd.concat([df, temp_df], ignore_index=True)\n",
        "        except FileNotFoundError:\n",
        "            print(f\"ファイル {file_name} が見つかりません。\")\n",
        "        except Exception as e:\n",
        "            print(f\"エラーが発生しました: {e}\")\n",
        "\n",
        "    # 各商品の合計注文量を計算\n",
        "    df = df.apply(pd.to_numeric, errors=\"coerce\")  # 数値に変換できない値を NaN に\n",
        "    total_df = df.sum()  # 合計を計算\n",
        "\n",
        "    return total_df\n",
        "\n",
        "# 各店からの注文データを読み込み、合計を計算\n",
        "total_df = load_order_data(file_list)\n",
        "\n",
        "# 結果を表示\n",
        "print(total_df)\n"
      ],
      "metadata": {
        "colab": {
          "base_uri": "https://localhost:8080/"
        },
        "id": "PdKTHc0coZaJ",
        "outputId": "af61bb45-0d54-4f3c-8193-c6a930c403e3"
      },
      "execution_count": null,
      "outputs": [
        {
          "output_type": "stream",
          "name": "stdout",
          "text": [
            "0\n",
            "トマト      31.0\n",
            "キャベツ     21.0\n",
            "レタス      42.0\n",
            "白菜       25.0\n",
            "ほうれん草    23.0\n",
            "大根       15.0\n",
            "ニンジン     32.0\n",
            "dtype: float64\n"
          ]
        }
      ]
    },
    {
      "cell_type": "code",
      "source": [
        "import pandas as pd # 在庫表から最新情報を取得\n",
        "\n",
        "# ファイルパス\n",
        "file_path = 'inventory.xlsx'\n",
        "\n",
        "# Excel ファイルを読み込む\n",
        "inventory_df = pd.read_excel(file_path)\n",
        "\n",
        "# データフレームの内容を確認\n",
        "last_row = inventory_df.iloc[-1]\n",
        "\n",
        "print(last_row)"
      ],
      "metadata": {
        "colab": {
          "base_uri": "https://localhost:8080/"
        },
        "id": "al7XLtjQ_cxD",
        "outputId": "72e8b301-a127-4d1a-f977-924e4bb4b721"
      },
      "execution_count": null,
      "outputs": [
        {
          "output_type": "stream",
          "name": "stdout",
          "text": [
            "日付       2023-05-14 00:00:00\n",
            "曜日                       Sun\n",
            "トマト                       91\n",
            "キャベツ                      73\n",
            "レタス                      103\n",
            "白菜                        84\n",
            "ほうれん草                     75\n",
            "大根                        48\n",
            "ニンジン                      50\n",
            "Name: 13, dtype: object\n"
          ]
        }
      ]
    },
    {
      "cell_type": "code",
      "source": [
        "import pandas as pd\n",
        "\n",
        "# 最新の在庫情報（仮データ: 最終行の情報）\n",
        "last_row = pd.Series({\n",
        "    \"トマト\": 91,\n",
        "    \"キャベツ\": 73,\n",
        "    \"レタス\": 103,\n",
        "    \"白菜\": 84,\n",
        "    \"ほうれん草\": 75,\n",
        "    \"大根\": 48,\n",
        "    \"ニンジン\": 50\n",
        "})\n",
        "\n",
        "# 各野菜の合計注文数（仮データ）\n",
        "total_df = pd.Series({\n",
        "    \"トマト\": 31,\n",
        "    \"キャベツ\": 21,\n",
        "    \"レタス\": 42,\n",
        "    \"白菜\": 25,\n",
        "    \"ほうれん草\": 23,\n",
        "    \"大根\": 15,\n",
        "    \"ニンジン\": 32\n",
        "})\n",
        "\n",
        "# 新しい在庫状況を計算\n",
        "remaining_inventory = last_row - total_df\n",
        "\n",
        "print(\"最新在庫状況:\")\n",
        "print(remaining_inventory)\n"
      ],
      "metadata": {
        "colab": {
          "base_uri": "https://localhost:8080/"
        },
        "id": "3_8QTrvflI-Y",
        "outputId": "257bd69a-d3d8-40b9-ff53-7cdffb489c24"
      },
      "execution_count": 8,
      "outputs": [
        {
          "output_type": "stream",
          "name": "stdout",
          "text": [
            "最新在庫状況:\n",
            "トマト      60\n",
            "キャベツ     52\n",
            "レタス      61\n",
            "白菜       59\n",
            "ほうれん草    52\n",
            "大根       33\n",
            "ニンジン     18\n",
            "dtype: int64\n"
          ]
        }
      ]
    },
    {
      "cell_type": "code",
      "source": [
        "print(total_df)"
      ],
      "metadata": {
        "colab": {
          "base_uri": "https://localhost:8080/"
        },
        "id": "jgaMLGr3oEzr",
        "outputId": "ed5576a6-12cf-4c61-f87a-bcbf8e43e558"
      },
      "execution_count": 9,
      "outputs": [
        {
          "output_type": "stream",
          "name": "stdout",
          "text": [
            "トマト      31\n",
            "キャベツ     21\n",
            "レタス      42\n",
            "白菜       25\n",
            "ほうれん草    23\n",
            "大根       15\n",
            "ニンジン     32\n",
            "dtype: int64\n"
          ]
        }
      ]
    }
  ]
}